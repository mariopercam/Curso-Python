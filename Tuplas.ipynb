{
  "nbformat": 4,
  "nbformat_minor": 0,
  "metadata": {
    "colab": {
      "provenance": [],
      "authorship_tag": "ABX9TyPyCiMfDawwPF+EI2M2NUIn",
      "include_colab_link": true
    },
    "kernelspec": {
      "name": "python3",
      "display_name": "Python 3"
    },
    "language_info": {
      "name": "python"
    }
  },
  "cells": [
    {
      "cell_type": "markdown",
      "metadata": {
        "id": "view-in-github",
        "colab_type": "text"
      },
      "source": [
        "<a href=\"https://colab.research.google.com/github/mariopercam/Curso-Python/blob/main/Tuplas.ipynb\" target=\"_parent\"><img src=\"https://colab.research.google.com/assets/colab-badge.svg\" alt=\"Open In Colab\"/></a>"
      ]
    },
    {
      "cell_type": "markdown",
      "source": [
        "# Aplicación de tuplas"
      ],
      "metadata": {
        "id": "Ly92Ek-Tdk9D"
      }
    },
    {
      "cell_type": "code",
      "execution_count": 1,
      "metadata": {
        "id": "qIQvkqwxdbwD"
      },
      "outputs": [],
      "source": [
        "def calculate_square_properties(side_lengh):\n",
        "  \"\"\"Calculate the area and perimeter of a square\"\"\"\n",
        "\n",
        "  area = side_lengh **2\n",
        "  perimeter = 4 * side_lengh\n",
        "\n",
        "  return(area, perimeter)"
      ]
    },
    {
      "cell_type": "code",
      "source": [
        "side = 5.0\n",
        "results = calculate_square_properties(side)"
      ],
      "metadata": {
        "id": "6Ow0EbwYHyd9"
      },
      "execution_count": 2,
      "outputs": []
    },
    {
      "cell_type": "code",
      "source": [
        "results"
      ],
      "metadata": {
        "colab": {
          "base_uri": "https://localhost:8080/"
        },
        "id": "qGJm3lJ-H_vc",
        "outputId": "42a8d0fd-f2e5-45af-8685-2cbf3a08eaa8"
      },
      "execution_count": 3,
      "outputs": [
        {
          "output_type": "execute_result",
          "data": {
            "text/plain": [
              "(25.0, 20.0)"
            ]
          },
          "metadata": {},
          "execution_count": 3
        }
      ]
    },
    {
      "cell_type": "code",
      "source": [
        "type(results)"
      ],
      "metadata": {
        "colab": {
          "base_uri": "https://localhost:8080/"
        },
        "id": "sppEmnSPIBIM",
        "outputId": "bbd05d54-8774-478e-b996-9ed95158d761"
      },
      "execution_count": 4,
      "outputs": [
        {
          "output_type": "execute_result",
          "data": {
            "text/plain": [
              "tuple"
            ]
          },
          "metadata": {},
          "execution_count": 4
        }
      ]
    },
    {
      "cell_type": "code",
      "source": [
        "area, perimeter = results"
      ],
      "metadata": {
        "id": "9h_SIbuOIDxz"
      },
      "execution_count": 5,
      "outputs": []
    },
    {
      "cell_type": "code",
      "source": [
        "area"
      ],
      "metadata": {
        "colab": {
          "base_uri": "https://localhost:8080/"
        },
        "id": "AI-lOKDDIKxR",
        "outputId": "b0d05e1a-02cf-420f-fffa-ef4ee90e883b"
      },
      "execution_count": 6,
      "outputs": [
        {
          "output_type": "execute_result",
          "data": {
            "text/plain": [
              "25.0"
            ]
          },
          "metadata": {},
          "execution_count": 6
        }
      ]
    },
    {
      "cell_type": "code",
      "source": [
        "perimeter"
      ],
      "metadata": {
        "colab": {
          "base_uri": "https://localhost:8080/"
        },
        "id": "PxJEeHG9IOS3",
        "outputId": "38a0ad5a-339c-4b03-fadb-9233e52431ad"
      },
      "execution_count": 8,
      "outputs": [
        {
          "output_type": "execute_result",
          "data": {
            "text/plain": [
              "20.0"
            ]
          },
          "metadata": {},
          "execution_count": 8
        }
      ]
    },
    {
      "cell_type": "code",
      "source": [
        "def circulo_propiedades(tamaño_radio):\n",
        "  Pi = 3.1416\n",
        "  area = Pi * tamaño_radio**2\n",
        "  circunferencia = 2*Pi * tamaño_radio\n",
        "  color = 'azul'\n",
        "  return(area, circunferencia, color)"
      ],
      "metadata": {
        "id": "i_BuO0TQIPQK"
      },
      "execution_count": 17,
      "outputs": []
    },
    {
      "cell_type": "code",
      "source": [
        "radio = 19.0\n",
        "propiedades = circulo_propiedades(radio)"
      ],
      "metadata": {
        "id": "PEOardb4LLS2"
      },
      "execution_count": 20,
      "outputs": []
    },
    {
      "cell_type": "code",
      "source": [
        "propiedades"
      ],
      "metadata": {
        "colab": {
          "base_uri": "https://localhost:8080/"
        },
        "id": "pSv8ewJILbd-",
        "outputId": "dd5a5310-ec91-45df-dfe3-a206de3eedd2"
      },
      "execution_count": 21,
      "outputs": [
        {
          "output_type": "execute_result",
          "data": {
            "text/plain": [
              "(1134.1176, 119.3808, 'azul')"
            ]
          },
          "metadata": {},
          "execution_count": 21
        }
      ]
    },
    {
      "cell_type": "code",
      "source": [
        "type(propiedades)"
      ],
      "metadata": {
        "colab": {
          "base_uri": "https://localhost:8080/"
        },
        "id": "fGIRmR7oLeh5",
        "outputId": "d1b6f534-6a54-4744-c114-e5e1f66d6cf0"
      },
      "execution_count": 22,
      "outputs": [
        {
          "output_type": "execute_result",
          "data": {
            "text/plain": [
              "tuple"
            ]
          },
          "metadata": {},
          "execution_count": 22
        }
      ]
    },
    {
      "cell_type": "code",
      "source": [],
      "metadata": {
        "id": "-J_LQcwohFW3"
      },
      "execution_count": null,
      "outputs": []
    }
  ]
}
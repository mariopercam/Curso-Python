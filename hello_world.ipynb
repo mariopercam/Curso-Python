{
  "nbformat": 4,
  "nbformat_minor": 0,
  "metadata": {
    "colab": {
      "provenance": [],
      "authorship_tag": "ABX9TyNrm6K8+Y4Zdxs2s+oxm2Cm",
      "include_colab_link": true
    },
    "kernelspec": {
      "name": "python3",
      "display_name": "Python 3"
    },
    "language_info": {
      "name": "python"
    }
  },
  "cells": [
    {
      "cell_type": "markdown",
      "metadata": {
        "id": "view-in-github",
        "colab_type": "text"
      },
      "source": [
        "<a href=\"https://colab.research.google.com/github/mariopercam/Curso-Python/blob/main/hello_world.ipynb\" target=\"_parent\"><img src=\"https://colab.research.google.com/assets/colab-badge.svg\" alt=\"Open In Colab\"/></a>"
      ]
    },
    {
      "cell_type": "markdown",
      "source": [
        "# Mi primer codigo en Python"
      ],
      "metadata": {
        "id": "vo0JhVh6sIsd"
      }
    },
    {
      "cell_type": "code",
      "execution_count": 1,
      "metadata": {
        "colab": {
          "base_uri": "https://localhost:8080/"
        },
        "id": "z-rsYEgjsBK-",
        "outputId": "6a201563-bda7-4515-f990-cbaac05207c1"
      },
      "outputs": [
        {
          "output_type": "stream",
          "name": "stdout",
          "text": [
            "hello!, world\n"
          ]
        }
      ],
      "source": [
        "# En python podemos usar comillas dobles\n",
        "# Para crear un string (una cadena de caracteres ó texto)\n",
        "print(\"hello!, world\")"
      ]
    },
    {
      "cell_type": "code",
      "source": [
        "# Pero tambien podemos usar comillas sencillas\n",
        "print('Hello!, world')"
      ],
      "metadata": {
        "id": "IN73obMCs2ZJ",
        "outputId": "1c953e3a-d8c4-4d21-8a55-4a17c128c5b1",
        "colab": {
          "base_uri": "https://localhost:8080/"
        }
      },
      "execution_count": 2,
      "outputs": [
        {
          "output_type": "stream",
          "name": "stdout",
          "text": [
            "Hello!, world\n"
          ]
        }
      ]
    },
    {
      "cell_type": "code",
      "source": [],
      "metadata": {
        "id": "2Dj2SPsUt3C-"
      },
      "execution_count": null,
      "outputs": []
    }
  ]
}
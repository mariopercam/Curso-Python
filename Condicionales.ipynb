{
  "nbformat": 4,
  "nbformat_minor": 0,
  "metadata": {
    "colab": {
      "provenance": [],
      "authorship_tag": "ABX9TyNrcjeswf1HrcANmlZZlLXm",
      "include_colab_link": true
    },
    "kernelspec": {
      "name": "python3",
      "display_name": "Python 3"
    },
    "language_info": {
      "name": "python"
    }
  },
  "cells": [
    {
      "cell_type": "markdown",
      "metadata": {
        "id": "view-in-github",
        "colab_type": "text"
      },
      "source": [
        "<a href=\"https://colab.research.google.com/github/mariopercam/Curso-Python/blob/main/Condicionales.ipynb\" target=\"_parent\"><img src=\"https://colab.research.google.com/assets/colab-badge.svg\" alt=\"Open In Colab\"/></a>"
      ]
    },
    {
      "cell_type": "markdown",
      "source": [
        "# Creando una función con argumentos\n",
        "\n",
        "Crear una función para obtener el área de un cuadrado"
      ],
      "metadata": {
        "id": "-ilpMMszAdPR"
      }
    },
    {
      "cell_type": "code",
      "execution_count": 7,
      "metadata": {
        "id": "FlhV3GqBAbhZ"
      },
      "outputs": [],
      "source": [
        "def area_cuadrado(lado):\n",
        "  \"\"\"Calcula el area de un cuadrado\"\"\"\n",
        "  area = lado * lado\n",
        "  return area"
      ]
    },
    {
      "cell_type": "code",
      "source": [
        "def area_cuadrado(lado: float):\n",
        "  \"\"\"Calcula el area de un cuadrado\"\"\"\n",
        "  area = lado * lado\n",
        "  return area"
      ],
      "metadata": {
        "id": "3Q62HFMoCN5l"
      },
      "execution_count": null,
      "outputs": []
    },
    {
      "cell_type": "code",
      "source": [
        "area_cuadrado(4)"
      ],
      "metadata": {
        "colab": {
          "base_uri": "https://localhost:8080/"
        },
        "id": "Axdgs62NB7nP",
        "outputId": "d92a98e0-741c-48b0-c7f8-7ec290162340"
      },
      "execution_count": 8,
      "outputs": [
        {
          "output_type": "execute_result",
          "data": {
            "text/plain": [
              "16"
            ]
          },
          "metadata": {},
          "execution_count": 8
        }
      ]
    },
    {
      "cell_type": "code",
      "source": [
        "help(area_cuadrado)"
      ],
      "metadata": {
        "colab": {
          "base_uri": "https://localhost:8080/"
        },
        "id": "Hhi2HdMQA_fy",
        "outputId": "cd2cc040-f75b-4a31-86fe-cf2f79f82d2c"
      },
      "execution_count": 4,
      "outputs": [
        {
          "output_type": "stream",
          "name": "stdout",
          "text": [
            "Help on function area_cuadrado in module __main__:\n",
            "\n",
            "area_cuadrado()\n",
            "    Calcula el area de un cuadrado\n",
            "\n"
          ]
        }
      ]
    },
    {
      "cell_type": "code",
      "source": [
        "def perimetro_rectangulo(lado1, lado2):\n",
        "  perimetro = lado1*2 + lado2*2\n",
        "  return perimetro"
      ],
      "metadata": {
        "id": "vz7hccHJBEhh"
      },
      "execution_count": 9,
      "outputs": []
    },
    {
      "cell_type": "code",
      "source": [
        "perimetro_rectangulo(2,3)"
      ],
      "metadata": {
        "colab": {
          "base_uri": "https://localhost:8080/"
        },
        "id": "o2e-cxt5F5Ev",
        "outputId": "5c68fe37-af4c-4581-c73f-0e9388d54a80"
      },
      "execution_count": 11,
      "outputs": [
        {
          "output_type": "execute_result",
          "data": {
            "text/plain": [
              "10"
            ]
          },
          "metadata": {},
          "execution_count": 11
        }
      ]
    },
    {
      "cell_type": "code",
      "source": [
        "def area_rectangulo(base, altura):\n",
        "  area = base * altura\n",
        "  return area"
      ],
      "metadata": {
        "id": "vZMgUMsTFeAj"
      },
      "execution_count": 10,
      "outputs": []
    },
    {
      "cell_type": "code",
      "source": [
        "area_rectangulo(2,3)"
      ],
      "metadata": {
        "colab": {
          "base_uri": "https://localhost:8080/"
        },
        "id": "fLWn02zNFz8m",
        "outputId": "121f5709-9331-49ff-8935-b8c447dacfe7"
      },
      "execution_count": 12,
      "outputs": [
        {
          "output_type": "execute_result",
          "data": {
            "text/plain": [
              "6"
            ]
          },
          "metadata": {},
          "execution_count": 12
        }
      ]
    },
    {
      "cell_type": "code",
      "source": [
        "def circunferencia_circulo(Pi, r):\n",
        "  circunferencia = 2*Pi * r\n",
        "  return circunferencia"
      ],
      "metadata": {
        "id": "O4Kf1_VdGF7W"
      },
      "execution_count": 13,
      "outputs": []
    },
    {
      "cell_type": "code",
      "source": [
        "circunferencia_circulo(3.1416,3)"
      ],
      "metadata": {
        "colab": {
          "base_uri": "https://localhost:8080/"
        },
        "id": "63j1HhZiGlMD",
        "outputId": "feb941fd-4fe4-4068-b397-b124345062fb"
      },
      "execution_count": 14,
      "outputs": [
        {
          "output_type": "execute_result",
          "data": {
            "text/plain": [
              "18.8496"
            ]
          },
          "metadata": {},
          "execution_count": 14
        }
      ]
    },
    {
      "cell_type": "code",
      "source": [
        "def area_circulo(Pi, r):\n",
        "  area = Pi * r**2\n",
        "  return area"
      ],
      "metadata": {
        "id": "LO8IOAD-Grht"
      },
      "execution_count": 15,
      "outputs": []
    },
    {
      "cell_type": "code",
      "source": [
        "area_circulo(3.1416,3)"
      ],
      "metadata": {
        "colab": {
          "base_uri": "https://localhost:8080/"
        },
        "id": "ButmDHKGG_4X",
        "outputId": "e4c4c717-c59f-432e-9d90-7666bce8e71e"
      },
      "execution_count": 16,
      "outputs": [
        {
          "output_type": "execute_result",
          "data": {
            "text/plain": [
              "28.2744"
            ]
          },
          "metadata": {},
          "execution_count": 16
        }
      ]
    },
    {
      "cell_type": "code",
      "source": [
        "import math\n",
        "Pi = 3.1416\n",
        "def perimetro_rectangulo(lado1, lado2):\n",
        "  perimetro = lado1*2 + lado2*2\n",
        "  return perimetro\n",
        "def area_rectangulo(base, altura):\n",
        "  area = base * altura\n",
        "  return area\n",
        "def circunferencia_circulo(r):\n",
        "  circunferencia = 2*Pi * r\n",
        "  return circunferencia\n",
        "def area_circulo(r):\n",
        "  area = Pi * r**2\n",
        "  return area"
      ],
      "metadata": {
        "id": "-CXYk6CIHEhy"
      },
      "execution_count": 22,
      "outputs": []
    },
    {
      "cell_type": "code",
      "source": [
        "perimetro_rectangulo(4,5)"
      ],
      "metadata": {
        "colab": {
          "base_uri": "https://localhost:8080/"
        },
        "id": "mkm8OWUQJNXp",
        "outputId": "01b4edb6-bf08-4a29-dc9c-6bea1030a8d2"
      },
      "execution_count": 20,
      "outputs": [
        {
          "output_type": "execute_result",
          "data": {
            "text/plain": [
              "18"
            ]
          },
          "metadata": {},
          "execution_count": 20
        }
      ]
    },
    {
      "cell_type": "code",
      "source": [
        "area_rectangulo(4,5)"
      ],
      "metadata": {
        "colab": {
          "base_uri": "https://localhost:8080/"
        },
        "id": "w5ecjEv5Ja0C",
        "outputId": "3954cc03-b6a5-48b1-8027-dfa1293bb388"
      },
      "execution_count": 21,
      "outputs": [
        {
          "output_type": "execute_result",
          "data": {
            "text/plain": [
              "20"
            ]
          },
          "metadata": {},
          "execution_count": 21
        }
      ]
    },
    {
      "cell_type": "code",
      "source": [
        "circunferencia_circulo(5)"
      ],
      "metadata": {
        "colab": {
          "base_uri": "https://localhost:8080/"
        },
        "id": "71gzQCaRJeJK",
        "outputId": "240346ce-cd5e-4256-c264-f9c160533004"
      },
      "execution_count": 23,
      "outputs": [
        {
          "output_type": "execute_result",
          "data": {
            "text/plain": [
              "31.416"
            ]
          },
          "metadata": {},
          "execution_count": 23
        }
      ]
    },
    {
      "cell_type": "code",
      "source": [
        "area_circulo(5)"
      ],
      "metadata": {
        "colab": {
          "base_uri": "https://localhost:8080/"
        },
        "id": "2B7dxcJ-JmJh",
        "outputId": "dc809efe-ffd2-4f3b-cf7e-28d7fad67af3"
      },
      "execution_count": 24,
      "outputs": [
        {
          "output_type": "execute_result",
          "data": {
            "text/plain": [
              "78.53999999999999"
            ]
          },
          "metadata": {},
          "execution_count": 24
        }
      ]
    },
    {
      "cell_type": "code",
      "source": [
        "x = 1\n",
        "y = 2\n",
        "print(x > y)"
      ],
      "metadata": {
        "colab": {
          "base_uri": "https://localhost:8080/"
        },
        "id": "2m-tKliIN7bW",
        "outputId": "146cf962-1260-41dc-e1cf-cc9662def1ba"
      },
      "execution_count": 27,
      "outputs": [
        {
          "output_type": "stream",
          "name": "stdout",
          "text": [
            "False\n"
          ]
        }
      ]
    },
    {
      "cell_type": "code",
      "source": [
        "diez = 10\n",
        "veinte = 20\n",
        "print(diez >= veinte)"
      ],
      "metadata": {
        "colab": {
          "base_uri": "https://localhost:8080/"
        },
        "id": "jTevrnzCOPF5",
        "outputId": "4da55752-8608-481b-fc95-f78c8a4aa64f"
      },
      "execution_count": 28,
      "outputs": [
        {
          "output_type": "stream",
          "name": "stdout",
          "text": [
            "False\n"
          ]
        }
      ]
    },
    {
      "cell_type": "code",
      "source": [
        "20\n",
        "str(20.001)\n",
        "print(20 <= 20.001)"
      ],
      "metadata": {
        "colab": {
          "base_uri": "https://localhost:8080/"
        },
        "id": "unYVyWXNQShg",
        "outputId": "7b9b8c05-0d59-4795-c531-cc235a4edecf"
      },
      "execution_count": 30,
      "outputs": [
        {
          "output_type": "stream",
          "name": "stdout",
          "text": [
            "True\n"
          ]
        }
      ]
    },
    {
      "cell_type": "code",
      "source": [
        "texto_1 = 'Marty! Tienes que venir conmigo, de regreso al futuro!'\n",
        "texto_2 = 'Marty! Tienes que venir conmigo, de regreso a1 futuro!'\n",
        "print(texto_1 == texto_2)"
      ],
      "metadata": {
        "colab": {
          "base_uri": "https://localhost:8080/"
        },
        "id": "Npw_O3CfQ242",
        "outputId": "4afae88d-a52f-4d63-9f69-e6451536f471"
      },
      "execution_count": 31,
      "outputs": [
        {
          "output_type": "stream",
          "name": "stdout",
          "text": [
            "False\n"
          ]
        }
      ]
    },
    {
      "cell_type": "code",
      "source": [
        "frase_1 = 'Marty, lo siento, pero la única fuente de poder capaz de generar 1.21 giga watts de potencia eléctrica es un rayo'\n",
        "frase_2 = 'Marty, lo siento, pero la única fuente de poder capaz de generar 1.21 giga watts de potencia e1éctrica es un rayo'\n",
        "print(frase_1 != frase_2)"
      ],
      "metadata": {
        "colab": {
          "base_uri": "https://localhost:8080/"
        },
        "id": "RY0bP_eHRYah",
        "outputId": "8f3baf48-f009-406d-f730-a6e086df43ac"
      },
      "execution_count": 32,
      "outputs": [
        {
          "output_type": "stream",
          "name": "stdout",
          "text": [
            "True\n"
          ]
        }
      ]
    },
    {
      "cell_type": "code",
      "source": [
        "# accion = 'lunes'\n",
        "# accion = 'martes'\n",
        "accion = 'miercoles'\n",
        "# accion = 'jueves'\n",
        "# accion = 'viernes'\n",
        "# accion = 'sabado'\n",
        "# accion = 'domingo'\n",
        "\n",
        "if accion == 'lunes':\n",
        "  print('Principio de semana?, No vo´a tabajá!')\n",
        "elif accion == 'martes':\n",
        "  print('Pa´ que voy a arriesgarme, No vo´a tabajá!')\n",
        "elif accion == 'miercoles':\n",
        "  print('Se casa la patrona, No vo´a tabajá!')\n",
        "elif accion == 'jueves':\n",
        "  print('Estoy muy desvelado, No vo´a tabajá!')\n",
        "elif accion == 'viernes':\n",
        "  print('Que muere jesucristo! Donde se ha visto?, No vo´a tabajá!')\n",
        "elif accion == 'sabado':\n",
        "  print('Trabajo medio día, Por medio día, No vo´a tabajá!')\n",
        "else:\n",
        "  print('Día de descanso, Bien merecido, No vo´a tabajá!')\n",
        "\n"
      ],
      "metadata": {
        "colab": {
          "base_uri": "https://localhost:8080/"
        },
        "id": "_q6d8_5DRuRG",
        "outputId": "388b33a6-1476-4884-cd2a-e0e1e7160ef5"
      },
      "execution_count": 15,
      "outputs": [
        {
          "output_type": "stream",
          "name": "stdout",
          "text": [
            "Se casa la patrona, No vo´a tabajá!\n"
          ]
        }
      ]
    },
    {
      "cell_type": "code",
      "source": [],
      "metadata": {
        "id": "kSksTyXC8OYh"
      },
      "execution_count": null,
      "outputs": []
    }
  ]
}